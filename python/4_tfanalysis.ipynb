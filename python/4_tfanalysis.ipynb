{
 "cells": [
  {
   "cell_type": "markdown",
   "metadata": {},
   "source": [
    "# Notebook 4: Pandas and TF binding site analysis"
   ]
  },
  {
   "cell_type": "markdown",
   "metadata": {},
   "source": [
    "Here we will start using Pandas. Pandas is the standard way of working with columnar data in Python. However, there is a substantial learning curve. If you want to learn more about Pandas, here is a useful site: http://pandas.pydata.org/"
   ]
  },
  {
   "cell_type": "markdown",
   "metadata": {},
   "source": [
    "Here we will use Pandas to analyze transcription factor (TF) binding sites from *Escherichia coli*. We will first focus on CRP, a major regulator in *E. coli* with over 350 functional binding sites.  "
   ]
  },
  {
   "cell_type": "markdown",
   "metadata": {},
   "source": [
    "## Part 1"
   ]
  },
  {
   "cell_type": "code",
   "execution_count": 1,
   "metadata": {
    "collapsed": true
   },
   "outputs": [],
   "source": [
    "# Put this forst\n",
    "import numpy as np\n",
    "import pandas as pd\n",
    "import matplotlib.pyplot as plt\n",
    "%matplotlib inline\n",
    "\n",
    "# Import logomaker; we will use this later for visualizing TF motifs.\n",
    "import logomaker "
   ]
  },
  {
   "cell_type": "code",
   "execution_count": 2,
   "metadata": {
    "collapsed": true
   },
   "outputs": [],
   "source": [
    "# We will be analyzing a standing database of TF binding sites, which is available on RegulonDB. \n",
    "# Here is a command for downloading this file (this didn't work in lecture 1)\n",
    "# !curl \"http://regulondb.ccg.unam.mx/menu/download/datasets/files/BindingSiteSet.txt \" -o binding_site_db.txt "
   ]
  },
  {
   "cell_type": "code",
   "execution_count": 4,
   "metadata": {},
   "outputs": [
    {
     "name": "stdout",
     "output_type": "stream",
     "text": [
      "# Copies and Copyright-Notice\r\n",
      "#\r\n",
      "#      RegulonDB is free for academic/noncommercial use\r\n",
      "#\r\n",
      "#      database or to eliminate copyright notices from RegulonDB. Furthermore,\r\n",
      "#      User is not entitled to expand RegulonDB or to integrate RegulonDB partly\r\n",
      "#      or as a whole into other databank systems, without prior written consent\r\n",
      "#      from CCG-UNAM.\r\n",
      "#\r\n",
      "#      Please check the license at http://regulondb.ccg.unam.mx/menu/download/full_version/terms_and_conditions.jsp\r\n",
      "#\r\n",
      "# Citation\r\n",
      "#\r\n",
      "#      Gama-Castro S et al. (2016). \"RegulonDB version 9.0: high-level integration of gene regulation, coexpression, motif clustering and beyond.\",\r\n",
      "#      Nucleic Acids Res. 2016 Jan 4;44(D1):D133-43. doi: 10.1093/nar/gkv1156. Epub 2015 Nov 2.\r\n",
      "#\r\n",
      "#\r\n",
      "# Contact\r\n",
      "#\r\n",
      "#      Person: RegulonDB Team\r\n",
      "#      Web Page: http://regulondb.ccg.unam.mx/menu/about_regulondb/contact_us/index.jsp\r\n",
      "#          (regulondb@ccg.unam.mx)\r\n",
      "#\r\n",
      "#\r\n",
      "# Release: 10.5 Date: 09/13/2018\r\n",
      "# Genome version: U00096.3, Refseq version; NC_000913.3 GI:556503834\r\n",
      "# ___________________________________________________________________________\r\n",
      "# Columns:\r\n",
      "# (1) Transcription Factor (TF) identifier assigned by RegulonDB\r\n",
      "# (2) TF name\r\n",
      "# (3) TF binding site (TF-bs) identifier assigned by RegulonDB\r\n",
      "# (4) TF-bs left end position in the genome\r\n",
      "# (5) TF-bs right end position in the genome\r\n",
      "# (6) DNA strand where the  TF-bs is located\r\n",
      "# (7) TF-Gene interaction identifier assigned by RegulonDB (related to the \"TF gene interactions\" file)\r\n",
      "# (8) Transcription unit regulated by the TF\r\n",
      "# (9) Gene expression effect caused by the TF bound to the  TF-bs (+ activation, - repression, +- dual, ? unknown)\r\n",
      "# (10) Promoter name\r\n",
      "# (11) Center position of TF-bs, relative to Transcription Start Site\r\n",
      "# (12) TF-bs sequence (upper case)\r\n",
      "# (13) Evidence that supports the existence of the TF-bs\r\n",
      "# (14) Evidence confidence level (Confirmed, Strong, Weak)\r\n",
      "ECK120015994\tAcrR\tECK125258528\t485709\t485732\treverse\tECK120033472\tacrAB\t-\tacrAp\t-22.5\tgcgttagattTACATACATTTGTGAATGTATGTAccatagcacg\t[BCE|W|Binding of cellular extracts],[GEA|W|Gene expression analysis],[BPP|S|Binding of purified proteins],[HIBSCS|W|Human inference based on similarity to consensus sequences]\tStrong\r\n",
      "ECK120015994\tAcrR\tECK125258528\t485709\t485732\tforward\tECK125134945\tacrR\t-\tacrRp\t22.5\tcgtgctatggTACATACATTCACAAATGTATGTAaatctaacgc\t[BCE|W|Binding of cellular extracts],[GEA|W|Gene expression analysis],[AIBSCS|W|Automated inference based on similarity to consensus sequences],[BPP|S|Binding of purified proteins],[HIBSCS|W|Human inference based on similarity to consensus sequences]\tStrong\r\n",
      "ECK120015994\tAcrR\tECK125202663\t1619048\t1619058\tforward\tECK125202664\tmarRAB\t-\tmarRp\t-40.5\tcatcggtcaaTTCATTCATTtgacttatac\t[GEA|W|Gene expression analysis],[BPP|S|Binding of purified proteins],[HIBSCS|W|Human inference based on similarity to consensus sequences]\tStrong\r\n",
      "ECK120015994\tAcrR\tECK125242724\t1978422\t1978432\treverse\tECK125242725\tflhDC\t-\tflhDp\t-31.5\ttcactacacgCACATACAACggaggggggc\t[GEA|W|Gene expression analysis],[HIBSCS|W|Human inference based on similarity to consensus sequences]\tWeak\r\n",
      "ECK120015994\tAcrR\tECK120035040\t2313112\t2313135\tforward\tECK120035041\tmicF\t-\tmicFp\t41\tatttattaccGTCATTCATTTCTGAATGTCTGTTtacccctatt\t[AIBSCS|W|Automated inference based on similarity to consensus sequences]\tWeak\r\n",
      "ECK120015994\tAcrR\tECK125202665\t4277444\t4277454\tforward\tECK125202666\tsoxR\t-\tsoxRp\t2.5\tgctttacctcAAGTTAACTTgaggaattat\t[GEA|W|Gene expression analysis],[BPP|S|Binding of purified proteins],[HIBSCS|W|Human inference based on similarity to consensus sequences]\tStrong\r\n",
      "ECK120015994\tAcrR\tECK125202665\t4277444\t4277454\treverse\tECK125202667\tsoxS\t-\tsoxSp\t-25.5\tataattcctcAAGTTAACTTgaggtaaagc\t[GEA|W|Gene expression analysis],[BPP|S|Binding of purified proteins],[HIBSCS|W|Human inference based on similarity to consensus sequences]\tStrong\r\n",
      "ECK120012595\tAda\tECK120012597\t2147589\t2147613\treverse\tECK120031098\talkA\t+\talkAp\t-41.5\tttcagacgctGCGCTTTGCTTTCATATTCCGGTTgtcgcgacgg\t[GEA|W|Gene expression analysis],[SM|S|Site mutation],[BPP|S|Binding of purified proteins],[HIBSCS|W|Human inference based on similarity to consensus sequences]\tStrong\r\n"
     ]
    }
   ],
   "source": [
    "# Let's see what this database looks like\n",
    "!head -n 50 binding_site_db.txt"
   ]
  },
  {
   "cell_type": "code",
   "execution_count": 6,
   "metadata": {},
   "outputs": [
    {
     "name": "stdout",
     "output_type": "stream",
     "text": [
      "<class 'pandas.core.frame.DataFrame'>\n"
     ]
    },
    {
     "data": {
      "text/html": [
       "<div>\n",
       "<style scoped>\n",
       "    .dataframe tbody tr th:only-of-type {\n",
       "        vertical-align: middle;\n",
       "    }\n",
       "\n",
       "    .dataframe tbody tr th {\n",
       "        vertical-align: top;\n",
       "    }\n",
       "\n",
       "    .dataframe thead th {\n",
       "        text-align: right;\n",
       "    }\n",
       "</style>\n",
       "<table border=\"1\" class=\"dataframe\">\n",
       "  <thead>\n",
       "    <tr style=\"text-align: right;\">\n",
       "      <th></th>\n",
       "      <th>0</th>\n",
       "      <th>1</th>\n",
       "      <th>2</th>\n",
       "      <th>3</th>\n",
       "      <th>4</th>\n",
       "      <th>5</th>\n",
       "      <th>6</th>\n",
       "      <th>7</th>\n",
       "      <th>8</th>\n",
       "      <th>9</th>\n",
       "      <th>10</th>\n",
       "      <th>11</th>\n",
       "      <th>12</th>\n",
       "      <th>13</th>\n",
       "    </tr>\n",
       "  </thead>\n",
       "  <tbody>\n",
       "    <tr>\n",
       "      <td>0</td>\n",
       "      <td>ECK120015994</td>\n",
       "      <td>AcrR</td>\n",
       "      <td>ECK125258528</td>\n",
       "      <td>485709</td>\n",
       "      <td>485732</td>\n",
       "      <td>reverse</td>\n",
       "      <td>ECK120033472</td>\n",
       "      <td>acrAB</td>\n",
       "      <td>-</td>\n",
       "      <td>acrAp</td>\n",
       "      <td>-22.5</td>\n",
       "      <td>gcgttagattTACATACATTTGTGAATGTATGTAccatagcacg</td>\n",
       "      <td>[BCE|W|Binding of cellular extracts],[GEA|W|Ge...</td>\n",
       "      <td>Strong</td>\n",
       "    </tr>\n",
       "    <tr>\n",
       "      <td>1</td>\n",
       "      <td>ECK120015994</td>\n",
       "      <td>AcrR</td>\n",
       "      <td>ECK125258528</td>\n",
       "      <td>485709</td>\n",
       "      <td>485732</td>\n",
       "      <td>forward</td>\n",
       "      <td>ECK125134945</td>\n",
       "      <td>acrR</td>\n",
       "      <td>-</td>\n",
       "      <td>acrRp</td>\n",
       "      <td>22.5</td>\n",
       "      <td>cgtgctatggTACATACATTCACAAATGTATGTAaatctaacgc</td>\n",
       "      <td>[BCE|W|Binding of cellular extracts],[GEA|W|Ge...</td>\n",
       "      <td>Strong</td>\n",
       "    </tr>\n",
       "    <tr>\n",
       "      <td>2</td>\n",
       "      <td>ECK120015994</td>\n",
       "      <td>AcrR</td>\n",
       "      <td>ECK125202663</td>\n",
       "      <td>1619048</td>\n",
       "      <td>1619058</td>\n",
       "      <td>forward</td>\n",
       "      <td>ECK125202664</td>\n",
       "      <td>marRAB</td>\n",
       "      <td>-</td>\n",
       "      <td>marRp</td>\n",
       "      <td>-40.5</td>\n",
       "      <td>catcggtcaaTTCATTCATTtgacttatac</td>\n",
       "      <td>[GEA|W|Gene expression analysis],[BPP|S|Bindin...</td>\n",
       "      <td>Strong</td>\n",
       "    </tr>\n",
       "    <tr>\n",
       "      <td>3</td>\n",
       "      <td>ECK120015994</td>\n",
       "      <td>AcrR</td>\n",
       "      <td>ECK125242724</td>\n",
       "      <td>1978422</td>\n",
       "      <td>1978432</td>\n",
       "      <td>reverse</td>\n",
       "      <td>ECK125242725</td>\n",
       "      <td>flhDC</td>\n",
       "      <td>-</td>\n",
       "      <td>flhDp</td>\n",
       "      <td>-31.5</td>\n",
       "      <td>tcactacacgCACATACAACggaggggggc</td>\n",
       "      <td>[GEA|W|Gene expression analysis],[HIBSCS|W|Hum...</td>\n",
       "      <td>Weak</td>\n",
       "    </tr>\n",
       "    <tr>\n",
       "      <td>4</td>\n",
       "      <td>ECK120015994</td>\n",
       "      <td>AcrR</td>\n",
       "      <td>ECK120035040</td>\n",
       "      <td>2313112</td>\n",
       "      <td>2313135</td>\n",
       "      <td>forward</td>\n",
       "      <td>ECK120035041</td>\n",
       "      <td>micF</td>\n",
       "      <td>-</td>\n",
       "      <td>micFp</td>\n",
       "      <td>41.0</td>\n",
       "      <td>atttattaccGTCATTCATTTCTGAATGTCTGTTtacccctatt</td>\n",
       "      <td>[AIBSCS|W|Automated inference based on similar...</td>\n",
       "      <td>Weak</td>\n",
       "    </tr>\n",
       "  </tbody>\n",
       "</table>\n",
       "</div>"
      ],
      "text/plain": [
       "             0     1             2        3        4        5             6   \\\n",
       "0  ECK120015994  AcrR  ECK125258528   485709   485732  reverse  ECK120033472   \n",
       "1  ECK120015994  AcrR  ECK125258528   485709   485732  forward  ECK125134945   \n",
       "2  ECK120015994  AcrR  ECK125202663  1619048  1619058  forward  ECK125202664   \n",
       "3  ECK120015994  AcrR  ECK125242724  1978422  1978432  reverse  ECK125242725   \n",
       "4  ECK120015994  AcrR  ECK120035040  2313112  2313135  forward  ECK120035041   \n",
       "\n",
       "       7  8      9     10                                            11  \\\n",
       "0   acrAB  -  acrAp -22.5  gcgttagattTACATACATTTGTGAATGTATGTAccatagcacg   \n",
       "1    acrR  -  acrRp  22.5  cgtgctatggTACATACATTCACAAATGTATGTAaatctaacgc   \n",
       "2  marRAB  -  marRp -40.5                catcggtcaaTTCATTCATTtgacttatac   \n",
       "3   flhDC  -  flhDp -31.5                tcactacacgCACATACAACggaggggggc   \n",
       "4    micF  -  micFp  41.0  atttattaccGTCATTCATTTCTGAATGTCTGTTtacccctatt   \n",
       "\n",
       "                                                  12      13  \n",
       "0  [BCE|W|Binding of cellular extracts],[GEA|W|Ge...  Strong  \n",
       "1  [BCE|W|Binding of cellular extracts],[GEA|W|Ge...  Strong  \n",
       "2  [GEA|W|Gene expression analysis],[BPP|S|Bindin...  Strong  \n",
       "3  [GEA|W|Gene expression analysis],[HIBSCS|W|Hum...    Weak  \n",
       "4  [AIBSCS|W|Automated inference based on similar...    Weak  "
      ]
     },
     "execution_count": 6,
     "metadata": {},
     "output_type": "execute_result"
    }
   ],
   "source": [
    "# To parse this file, use Pandas's method read_csv. \n",
    "# We pass the name of this file, as well as other keyword arguments:\n",
    "#     sep='\\t': columns are delimited by tabs\n",
    "#     comment='#': ignore rows that begin with this\n",
    "#     header=None: the first row is NOT the name of the columns\n",
    "# The results are stored as an object known as a dataframe\n",
    "df = pd.read_csv(\"binding_site_db.txt\", \n",
    "                 sep='\\t', \n",
    "                 comment='#', \n",
    "                 header=None)\n",
    "\n",
    "# Tells us that we're working with a DataFrame object\n",
    "print(type(df))\n",
    "\n",
    "# To check that the data has been properly loaded, call the method df.head()\n",
    "df.head()"
   ]
  },
  {
   "cell_type": "code",
   "execution_count": 7,
   "metadata": {},
   "outputs": [
    {
     "data": {
      "text/plain": [
       "(3562, 14)"
      ]
     },
     "execution_count": 7,
     "metadata": {},
     "output_type": "execute_result"
    }
   ],
   "source": [
    "# You get the number of rows and columns from the attribute df.shape\n",
    "df.shape"
   ]
  },
  {
   "cell_type": "code",
   "execution_count": 8,
   "metadata": {},
   "outputs": [
    {
     "data": {
      "text/html": [
       "<div>\n",
       "<style scoped>\n",
       "    .dataframe tbody tr th:only-of-type {\n",
       "        vertical-align: middle;\n",
       "    }\n",
       "\n",
       "    .dataframe tbody tr th {\n",
       "        vertical-align: top;\n",
       "    }\n",
       "\n",
       "    .dataframe thead th {\n",
       "        text-align: right;\n",
       "    }\n",
       "</style>\n",
       "<table border=\"1\" class=\"dataframe\">\n",
       "  <thead>\n",
       "    <tr style=\"text-align: right;\">\n",
       "      <th></th>\n",
       "      <th>1</th>\n",
       "      <th>11</th>\n",
       "    </tr>\n",
       "  </thead>\n",
       "  <tbody>\n",
       "    <tr>\n",
       "      <td>0</td>\n",
       "      <td>AcrR</td>\n",
       "      <td>gcgttagattTACATACATTTGTGAATGTATGTAccatagcacg</td>\n",
       "    </tr>\n",
       "    <tr>\n",
       "      <td>1</td>\n",
       "      <td>AcrR</td>\n",
       "      <td>cgtgctatggTACATACATTCACAAATGTATGTAaatctaacgc</td>\n",
       "    </tr>\n",
       "    <tr>\n",
       "      <td>2</td>\n",
       "      <td>AcrR</td>\n",
       "      <td>catcggtcaaTTCATTCATTtgacttatac</td>\n",
       "    </tr>\n",
       "    <tr>\n",
       "      <td>3</td>\n",
       "      <td>AcrR</td>\n",
       "      <td>tcactacacgCACATACAACggaggggggc</td>\n",
       "    </tr>\n",
       "    <tr>\n",
       "      <td>4</td>\n",
       "      <td>AcrR</td>\n",
       "      <td>atttattaccGTCATTCATTTCTGAATGTCTGTTtacccctatt</td>\n",
       "    </tr>\n",
       "  </tbody>\n",
       "</table>\n",
       "</div>"
      ],
      "text/plain": [
       "     1                                             11\n",
       "0  AcrR  gcgttagattTACATACATTTGTGAATGTATGTAccatagcacg\n",
       "1  AcrR  cgtgctatggTACATACATTCACAAATGTATGTAaatctaacgc\n",
       "2  AcrR                catcggtcaaTTCATTCATTtgacttatac\n",
       "3  AcrR                tcactacacgCACATACAACggaggggggc\n",
       "4  AcrR  atttattaccGTCATTCATTTCTGAATGTCTGTTtacccctatt"
      ]
     },
     "execution_count": 8,
     "metadata": {},
     "output_type": "execute_result"
    }
   ],
   "source": [
    "# We only want the TF name (column 1) and the TF binding site sequence (column 11)\n",
    "# To keep only these columns, index the df using a list of column names you want (in the order you want)\n",
    "col_names = [1,11]\n",
    "df = df[col_names]\n",
    "df.head()"
   ]
  },
  {
   "cell_type": "code",
   "execution_count": 9,
   "metadata": {},
   "outputs": [
    {
     "data": {
      "text/html": [
       "<div>\n",
       "<style scoped>\n",
       "    .dataframe tbody tr th:only-of-type {\n",
       "        vertical-align: middle;\n",
       "    }\n",
       "\n",
       "    .dataframe tbody tr th {\n",
       "        vertical-align: top;\n",
       "    }\n",
       "\n",
       "    .dataframe thead th {\n",
       "        text-align: right;\n",
       "    }\n",
       "</style>\n",
       "<table border=\"1\" class=\"dataframe\">\n",
       "  <thead>\n",
       "    <tr style=\"text-align: right;\">\n",
       "      <th></th>\n",
       "      <th>tf</th>\n",
       "      <th>site</th>\n",
       "    </tr>\n",
       "  </thead>\n",
       "  <tbody>\n",
       "    <tr>\n",
       "      <td>3557</td>\n",
       "      <td>ZraR</td>\n",
       "      <td>gctgcgggtaGCGAGTCATTTTTACTCattgaaactt</td>\n",
       "    </tr>\n",
       "    <tr>\n",
       "      <td>3558</td>\n",
       "      <td>Zur</td>\n",
       "      <td>tcatcattttTACCTGTTATGTTATAACATAACcataaagata</td>\n",
       "    </tr>\n",
       "    <tr>\n",
       "      <td>3559</td>\n",
       "      <td>Zur</td>\n",
       "      <td>cagtagtcatGAAATGTTATAATATCACACTTCtcatattcat</td>\n",
       "    </tr>\n",
       "    <tr>\n",
       "      <td>3560</td>\n",
       "      <td>Zur</td>\n",
       "      <td>atgaatatgaGAAGTGTGATATTATAACATTTCatgactactg</td>\n",
       "    </tr>\n",
       "    <tr>\n",
       "      <td>3561</td>\n",
       "      <td>Zur</td>\n",
       "      <td>tgcattttgcTATATGTTACAATATAACATTACacatcatata</td>\n",
       "    </tr>\n",
       "  </tbody>\n",
       "</table>\n",
       "</div>"
      ],
      "text/plain": [
       "        tf                                         site\n",
       "3557  ZraR        gctgcgggtaGCGAGTCATTTTTACTCattgaaactt\n",
       "3558   Zur  tcatcattttTACCTGTTATGTTATAACATAACcataaagata\n",
       "3559   Zur  cagtagtcatGAAATGTTATAATATCACACTTCtcatattcat\n",
       "3560   Zur  atgaatatgaGAAGTGTGATATTATAACATTTCatgactactg\n",
       "3561   Zur  tgcattttgcTATATGTTACAATATAACATTACacatcatata"
      ]
     },
     "execution_count": 9,
     "metadata": {},
     "output_type": "execute_result"
    }
   ],
   "source": [
    "# Data frames allow users to give columns meaningful names.\n",
    "# To rename the columns, set df.columns to a list of the desired names.\n",
    "df.columns = ['tf','site']\n",
    "df.tail()"
   ]
  },
  {
   "cell_type": "code",
   "execution_count": 15,
   "metadata": {},
   "outputs": [
    {
     "data": {
      "text/html": [
       "<div>\n",
       "<style scoped>\n",
       "    .dataframe tbody tr th:only-of-type {\n",
       "        vertical-align: middle;\n",
       "    }\n",
       "\n",
       "    .dataframe tbody tr th {\n",
       "        vertical-align: top;\n",
       "    }\n",
       "\n",
       "    .dataframe thead th {\n",
       "        text-align: right;\n",
       "    }\n",
       "</style>\n",
       "<table border=\"1\" class=\"dataframe\">\n",
       "  <thead>\n",
       "    <tr style=\"text-align: right;\">\n",
       "      <th></th>\n",
       "      <th>tf</th>\n",
       "      <th>site</th>\n",
       "    </tr>\n",
       "  </thead>\n",
       "  <tbody>\n",
       "    <tr>\n",
       "      <td>0</td>\n",
       "      <td>AcrR</td>\n",
       "      <td>gcgttagattTACATACATTTGTGAATGTATGTAccatagcacg</td>\n",
       "    </tr>\n",
       "    <tr>\n",
       "      <td>1</td>\n",
       "      <td>AcrR</td>\n",
       "      <td>cgtgctatggTACATACATTCACAAATGTATGTAaatctaacgc</td>\n",
       "    </tr>\n",
       "    <tr>\n",
       "      <td>2</td>\n",
       "      <td>AcrR</td>\n",
       "      <td>catcggtcaaTTCATTCATTtgacttatac</td>\n",
       "    </tr>\n",
       "    <tr>\n",
       "      <td>3</td>\n",
       "      <td>AcrR</td>\n",
       "      <td>tcactacacgCACATACAACggaggggggc</td>\n",
       "    </tr>\n",
       "    <tr>\n",
       "      <td>4</td>\n",
       "      <td>AcrR</td>\n",
       "      <td>atttattaccGTCATTCATTTCTGAATGTCTGTTtacccctatt</td>\n",
       "    </tr>\n",
       "    <tr>\n",
       "      <td>5</td>\n",
       "      <td>AcrR</td>\n",
       "      <td>gctttacctcAAGTTAACTTgaggaattat</td>\n",
       "    </tr>\n",
       "    <tr>\n",
       "      <td>6</td>\n",
       "      <td>AcrR</td>\n",
       "      <td>ataattcctcAAGTTAACTTgaggtaaagc</td>\n",
       "    </tr>\n",
       "    <tr>\n",
       "      <td>7</td>\n",
       "      <td>Ada</td>\n",
       "      <td>ttcagacgctGCGCTTTGCTTTCATATTCCGGTTgtcgcgacgg</td>\n",
       "    </tr>\n",
       "    <tr>\n",
       "      <td>8</td>\n",
       "      <td>Ada</td>\n",
       "      <td>ggtcaccatcACGCAAAAACCAACAATCTTGCGCtttaattttt</td>\n",
       "    </tr>\n",
       "    <tr>\n",
       "      <td>9</td>\n",
       "      <td>Ada</td>\n",
       "      <td>caacaatcttGCGCTTTAATTTTTTTCGCTGACAaggaagcttt</td>\n",
       "    </tr>\n",
       "    <tr>\n",
       "      <td>10</td>\n",
       "      <td>Ada</td>\n",
       "      <td>cgcattacatTGCTGGATAAGAATGTTTTAGCAAtctctttctg</td>\n",
       "    </tr>\n",
       "    <tr>\n",
       "      <td>11</td>\n",
       "      <td>AgaR</td>\n",
       "      <td>ttcgtaaaacTTTCGTTTCATTTCGTTTTGcctattaacg</td>\n",
       "    </tr>\n",
       "    <tr>\n",
       "      <td>12</td>\n",
       "      <td>AgaR</td>\n",
       "      <td>ttgcctattaACGCCTTTCTATTAAGCAAAtgcaagccca</td>\n",
       "    </tr>\n",
       "    <tr>\n",
       "      <td>13</td>\n",
       "      <td>AgaR</td>\n",
       "      <td>tttcagtgacTTTCATTATGTTTCTTTTGTgaatcagatc</td>\n",
       "    </tr>\n",
       "    <tr>\n",
       "      <td>14</td>\n",
       "      <td>AgaR</td>\n",
       "      <td>aaccattatcTTTCGTTTTATTTTTATCTCaccatgacgc</td>\n",
       "    </tr>\n",
       "    <tr>\n",
       "      <td>15</td>\n",
       "      <td>AgaR</td>\n",
       "      <td>tgacgcagtaTCAACTGAAACAAAACGAAAgattaatatc</td>\n",
       "    </tr>\n",
       "    <tr>\n",
       "      <td>16</td>\n",
       "      <td>AgaR</td>\n",
       "      <td>ctggattcagGGTCAATTAGCTTCGTTTTGatagtttgct</td>\n",
       "    </tr>\n",
       "    <tr>\n",
       "      <td>17</td>\n",
       "      <td>AgaR</td>\n",
       "      <td>ccgtaaggccTTTCTTTTTCTTTCGTTTTGatctgtgcag</td>\n",
       "    </tr>\n",
       "    <tr>\n",
       "      <td>18</td>\n",
       "      <td>AgaR</td>\n",
       "      <td>gcatccagcaATCCCTTTTGCTTCCTTTATcttttctttc</td>\n",
       "    </tr>\n",
       "    <tr>\n",
       "      <td>19</td>\n",
       "      <td>AgaR</td>\n",
       "      <td>cgatcacaaaTTTCGTTTTATTTCTTTTTTctccattgaa</td>\n",
       "    </tr>\n",
       "    <tr>\n",
       "      <td>20</td>\n",
       "      <td>AgaR</td>\n",
       "      <td>tccattgaacTTTCAGTTTCTTTTCTATAGattttaatca</td>\n",
       "    </tr>\n",
       "    <tr>\n",
       "      <td>21</td>\n",
       "      <td>AgaR</td>\n",
       "      <td>aaagacatcaCCAAGTGAAATGAAACGAAAggcaagtgaa</td>\n",
       "    </tr>\n",
       "    <tr>\n",
       "      <td>22</td>\n",
       "      <td>AidB</td>\n",
       "      <td>ttacattgctGGATAAGAATGTTTTAGCAATCTCTTtctgtcatga</td>\n",
       "    </tr>\n",
       "    <tr>\n",
       "      <td>23</td>\n",
       "      <td>AlaS</td>\n",
       "      <td>ccgggctggtAACTGAAAAGTGGGAATAAGATAAGTTTTCTTGAct...</td>\n",
       "    </tr>\n",
       "    <tr>\n",
       "      <td>24</td>\n",
       "      <td>AllR</td>\n",
       "      <td>aatacaaaagTTGGAATATTTTTCCAAaactagattt</td>\n",
       "    </tr>\n",
       "    <tr>\n",
       "      <td>25</td>\n",
       "      <td>AllR</td>\n",
       "      <td>aaatctagttTTGGAAAAATATTCCAActtttgtatt</td>\n",
       "    </tr>\n",
       "    <tr>\n",
       "      <td>26</td>\n",
       "      <td>AllR</td>\n",
       "      <td>aatttgaaagTTGGAAAAATTTTCCAAtaaatagagg</td>\n",
       "    </tr>\n",
       "    <tr>\n",
       "      <td>27</td>\n",
       "      <td>AllS</td>\n",
       "      <td>tttaacctgaTTTTTAAAACAACAAcgcttattaa</td>\n",
       "    </tr>\n",
       "    <tr>\n",
       "      <td>28</td>\n",
       "      <td>AraC</td>\n",
       "      <td>tccataagatTAGCGGATCCTACCTGAcgctttttat</td>\n",
       "    </tr>\n",
       "    <tr>\n",
       "      <td>29</td>\n",
       "      <td>AraC</td>\n",
       "      <td>ataaaaagcgTCAGGTAGGATCCGCTAatcttatgga</td>\n",
       "    </tr>\n",
       "    <tr>\n",
       "      <td>30</td>\n",
       "      <td>AraC</td>\n",
       "      <td>tgctatgccaTAGCATTTTTATCCATAagattagcgg</td>\n",
       "    </tr>\n",
       "    <tr>\n",
       "      <td>31</td>\n",
       "      <td>AraC</td>\n",
       "      <td>tgctatgccaTAGCATTTTTATCCATAagattagcgg</td>\n",
       "    </tr>\n",
       "    <tr>\n",
       "      <td>32</td>\n",
       "      <td>AraC</td>\n",
       "      <td>ccgctaatctTATGGATAAAAATGCTAtggcatagca</td>\n",
       "    </tr>\n",
       "    <tr>\n",
       "      <td>33</td>\n",
       "      <td>AraC</td>\n",
       "      <td>ccgctaatctTATGGATAAAAATGCTAtggcatagca</td>\n",
       "    </tr>\n",
       "    <tr>\n",
       "      <td>34</td>\n",
       "      <td>AraC</td>\n",
       "      <td>tctataatcaCGGCAGAAAAGTCCACAttgattattt</td>\n",
       "    </tr>\n",
       "    <tr>\n",
       "      <td>35</td>\n",
       "      <td>AraC</td>\n",
       "      <td>aaataatcaaTGTGGACTTTTCTGCCGtgattataga</td>\n",
       "    </tr>\n",
       "    <tr>\n",
       "      <td>36</td>\n",
       "      <td>AraC</td>\n",
       "      <td>caaaaacgcgTAACAAAAGTGTCTATAatcacggcag</td>\n",
       "    </tr>\n",
       "    <tr>\n",
       "      <td>37</td>\n",
       "      <td>AraC</td>\n",
       "      <td>ctgccgtgatTATAGACACTTTTGTTAcgcgtttttg</td>\n",
       "    </tr>\n",
       "    <tr>\n",
       "      <td>38</td>\n",
       "      <td>AraC</td>\n",
       "      <td>attcagagaaGAAACCAATTGTCCATAttgcatcaga</td>\n",
       "    </tr>\n",
       "    <tr>\n",
       "      <td>39</td>\n",
       "      <td>AraC</td>\n",
       "      <td>tctgatgcaaTATGGACAATTGGTTTCttctctgaat</td>\n",
       "    </tr>\n",
       "    <tr>\n",
       "      <td>40</td>\n",
       "      <td>AraC</td>\n",
       "      <td>cagcaaggccAAGAGATAATTCGCCCCtctgtattca</td>\n",
       "    </tr>\n",
       "    <tr>\n",
       "      <td>41</td>\n",
       "      <td>AraC</td>\n",
       "      <td>cgcccctctgTATTCATTATCCTGCTGaatagttatt</td>\n",
       "    </tr>\n",
       "    <tr>\n",
       "      <td>42</td>\n",
       "      <td>AraC</td>\n",
       "      <td>cgcagaattaCAGTGAGAACGTGCATAaatttagcgg</td>\n",
       "    </tr>\n",
       "    <tr>\n",
       "      <td>43</td>\n",
       "      <td>AraC</td>\n",
       "      <td>tgcataaattTAGCGGGAAAAGACATAagggaaagcc</td>\n",
       "    </tr>\n",
       "    <tr>\n",
       "      <td>44</td>\n",
       "      <td>AraC</td>\n",
       "      <td>gtcgaatgcaCAGCAGATTAATCCATAagattagcct</td>\n",
       "    </tr>\n",
       "    <tr>\n",
       "      <td>45</td>\n",
       "      <td>AraC</td>\n",
       "      <td>tccataagatTAGCCTGGAAATCCTTGttgtctttgg</td>\n",
       "    </tr>\n",
       "    <tr>\n",
       "      <td>46</td>\n",
       "      <td>AraC</td>\n",
       "      <td>cacgcaggtgTCAGGTCGGAAACAGCAtaaatatgga</td>\n",
       "    </tr>\n",
       "    <tr>\n",
       "      <td>47</td>\n",
       "      <td>AraC</td>\n",
       "      <td>cacgcaggtgTCAGGTCGGAAACAGCAtaaatatgga</td>\n",
       "    </tr>\n",
       "    <tr>\n",
       "      <td>48</td>\n",
       "      <td>AraC</td>\n",
       "      <td>acagcataaaTATGGATTAAATTGCTGcgacatgtcg</td>\n",
       "    </tr>\n",
       "    <tr>\n",
       "      <td>49</td>\n",
       "      <td>AraC</td>\n",
       "      <td>acagcataaaTATGGATTAAATTGCTGcgacatgtcg</td>\n",
       "    </tr>\n",
       "  </tbody>\n",
       "</table>\n",
       "</div>"
      ],
      "text/plain": [
       "      tf                                               site\n",
       "0   AcrR       gcgttagattTACATACATTTGTGAATGTATGTAccatagcacg\n",
       "1   AcrR       cgtgctatggTACATACATTCACAAATGTATGTAaatctaacgc\n",
       "2   AcrR                     catcggtcaaTTCATTCATTtgacttatac\n",
       "3   AcrR                     tcactacacgCACATACAACggaggggggc\n",
       "4   AcrR       atttattaccGTCATTCATTTCTGAATGTCTGTTtacccctatt\n",
       "5   AcrR                     gctttacctcAAGTTAACTTgaggaattat\n",
       "6   AcrR                     ataattcctcAAGTTAACTTgaggtaaagc\n",
       "7    Ada       ttcagacgctGCGCTTTGCTTTCATATTCCGGTTgtcgcgacgg\n",
       "8    Ada       ggtcaccatcACGCAAAAACCAACAATCTTGCGCtttaattttt\n",
       "9    Ada       caacaatcttGCGCTTTAATTTTTTTCGCTGACAaggaagcttt\n",
       "10   Ada       cgcattacatTGCTGGATAAGAATGTTTTAGCAAtctctttctg\n",
       "11  AgaR           ttcgtaaaacTTTCGTTTCATTTCGTTTTGcctattaacg\n",
       "12  AgaR           ttgcctattaACGCCTTTCTATTAAGCAAAtgcaagccca\n",
       "13  AgaR           tttcagtgacTTTCATTATGTTTCTTTTGTgaatcagatc\n",
       "14  AgaR           aaccattatcTTTCGTTTTATTTTTATCTCaccatgacgc\n",
       "15  AgaR           tgacgcagtaTCAACTGAAACAAAACGAAAgattaatatc\n",
       "16  AgaR           ctggattcagGGTCAATTAGCTTCGTTTTGatagtttgct\n",
       "17  AgaR           ccgtaaggccTTTCTTTTTCTTTCGTTTTGatctgtgcag\n",
       "18  AgaR           gcatccagcaATCCCTTTTGCTTCCTTTATcttttctttc\n",
       "19  AgaR           cgatcacaaaTTTCGTTTTATTTCTTTTTTctccattgaa\n",
       "20  AgaR           tccattgaacTTTCAGTTTCTTTTCTATAGattttaatca\n",
       "21  AgaR           aaagacatcaCCAAGTGAAATGAAACGAAAggcaagtgaa\n",
       "22  AidB     ttacattgctGGATAAGAATGTTTTAGCAATCTCTTtctgtcatga\n",
       "23  AlaS  ccgggctggtAACTGAAAAGTGGGAATAAGATAAGTTTTCTTGAct...\n",
       "24  AllR              aatacaaaagTTGGAATATTTTTCCAAaactagattt\n",
       "25  AllR              aaatctagttTTGGAAAAATATTCCAActtttgtatt\n",
       "26  AllR              aatttgaaagTTGGAAAAATTTTCCAAtaaatagagg\n",
       "27  AllS                tttaacctgaTTTTTAAAACAACAAcgcttattaa\n",
       "28  AraC              tccataagatTAGCGGATCCTACCTGAcgctttttat\n",
       "29  AraC              ataaaaagcgTCAGGTAGGATCCGCTAatcttatgga\n",
       "30  AraC              tgctatgccaTAGCATTTTTATCCATAagattagcgg\n",
       "31  AraC              tgctatgccaTAGCATTTTTATCCATAagattagcgg\n",
       "32  AraC              ccgctaatctTATGGATAAAAATGCTAtggcatagca\n",
       "33  AraC              ccgctaatctTATGGATAAAAATGCTAtggcatagca\n",
       "34  AraC              tctataatcaCGGCAGAAAAGTCCACAttgattattt\n",
       "35  AraC              aaataatcaaTGTGGACTTTTCTGCCGtgattataga\n",
       "36  AraC              caaaaacgcgTAACAAAAGTGTCTATAatcacggcag\n",
       "37  AraC              ctgccgtgatTATAGACACTTTTGTTAcgcgtttttg\n",
       "38  AraC              attcagagaaGAAACCAATTGTCCATAttgcatcaga\n",
       "39  AraC              tctgatgcaaTATGGACAATTGGTTTCttctctgaat\n",
       "40  AraC              cagcaaggccAAGAGATAATTCGCCCCtctgtattca\n",
       "41  AraC              cgcccctctgTATTCATTATCCTGCTGaatagttatt\n",
       "42  AraC              cgcagaattaCAGTGAGAACGTGCATAaatttagcgg\n",
       "43  AraC              tgcataaattTAGCGGGAAAAGACATAagggaaagcc\n",
       "44  AraC              gtcgaatgcaCAGCAGATTAATCCATAagattagcct\n",
       "45  AraC              tccataagatTAGCCTGGAAATCCTTGttgtctttgg\n",
       "46  AraC              cacgcaggtgTCAGGTCGGAAACAGCAtaaatatgga\n",
       "47  AraC              cacgcaggtgTCAGGTCGGAAACAGCAtaaatatgga\n",
       "48  AraC              acagcataaaTATGGATTAAATTGCTGcgacatgtcg\n",
       "49  AraC              acagcataaaTATGGATTAAATTGCTGcgacatgtcg"
      ]
     },
     "execution_count": 15,
     "metadata": {},
     "output_type": "execute_result"
    }
   ],
   "source": [
    "# Note that the last two modifications of df can be accomplished in one line \n",
    "df = pd.read_csv(\"binding_site_db.txt\", \n",
    "                 sep='\\t', \n",
    "                 comment='#',\n",
    "                 header=None, \n",
    "                 usecols=[1,11], \n",
    "                 names=['tf','site'])\n",
    "df.dropna(inplace=True)\n",
    "df.reset_index(inplace=True, drop=True)\n",
    "df.head(50)"
   ]
  },
  {
   "cell_type": "code",
   "execution_count": 13,
   "metadata": {},
   "outputs": [
    {
     "data": {
      "text/plain": [
       "0       AcrR\n",
       "1       AcrR\n",
       "2       AcrR\n",
       "3       AcrR\n",
       "4       AcrR\n",
       "        ... \n",
       "3557    ZraR\n",
       "3558     Zur\n",
       "3559     Zur\n",
       "3560     Zur\n",
       "3561     Zur\n",
       "Name: tf, Length: 3562, dtype: object"
      ]
     },
     "execution_count": 13,
     "metadata": {},
     "output_type": "execute_result"
    }
   ],
   "source": [
    "df['tf']"
   ]
  },
  {
   "cell_type": "code",
   "execution_count": null,
   "metadata": {
    "collapsed": true
   },
   "outputs": [],
   "source": [
    "# Check out the pd.read_csv() documentation for a full list\n",
    "pd.read_csv?"
   ]
  },
  {
   "cell_type": "code",
   "execution_count": null,
   "metadata": {
    "collapsed": true
   },
   "outputs": [],
   "source": [
    "# Dataframe columns are called 'Series' objects. \n",
    "# Essentially, they're numpy arrays with some extra sugar.\n",
    "col = df['tf']\n",
    "print(type(col))\n",
    "col.head()"
   ]
  },
  {
   "cell_type": "code",
   "execution_count": null,
   "metadata": {
    "collapsed": true
   },
   "outputs": [],
   "source": [
    "# You can extract an element from a dataframe by using .loc[]\n",
    "df.loc[3,'site']"
   ]
  },
  {
   "cell_type": "markdown",
   "metadata": {},
   "source": [
    "Our goal is to generate sequence logos that represents the binding preferences of TFs in this database.  As a concrete example we'll use CRP, which has a well-characterized binding motif shown here:\n",
    "\n",
    "<img src=\"crp_information_logo.png\" alt=\"Drawing\" style=\"width: 700px;\"/>"
   ]
  },
  {
   "cell_type": "code",
   "execution_count": null,
   "metadata": {
    "collapsed": true
   },
   "outputs": [],
   "source": [
    "# Choose a TF\n",
    "tf = 'CRP'\n",
    "\n",
    "# Flag which rows in the dataframe have the correct TF name\n",
    "flags = (df['tf']==tf)\n",
    "\n",
    "# Grab those rows. To be safe use copy() to make sure that, if we\n",
    "# alter tf_df, df itself doesn't change\n",
    "tf_df = df[flags].copy()\n",
    "tf_df.head(20)"
   ]
  },
  {
   "cell_type": "code",
   "execution_count": null,
   "metadata": {
    "collapsed": true
   },
   "outputs": [],
   "source": [
    "# To get rid of rows with missing data, use dropna\n",
    "tf_df.dropna(inplace=True)\n",
    "tf_df.head()"
   ]
  },
  {
   "cell_type": "code",
   "execution_count": null,
   "metadata": {
    "collapsed": true
   },
   "outputs": [],
   "source": [
    "# Each DNA binding site should be capitalized.\n",
    "# To do this, we reset 'site' column of tf_df\n",
    "\n",
    "# Get list of capitalized sites and replace the 'site' column with this\n",
    "capitalized_sites = [site.upper() for site in tf_df['site']]\n",
    "tf_df['site'] = capitalized_sites\n",
    "tf_df.head()"
   ]
  },
  {
   "cell_type": "code",
   "execution_count": null,
   "metadata": {
    "collapsed": true
   },
   "outputs": [],
   "source": [
    "# In order to derive a motif, all sites we analyze need to be the same length.\n",
    "# It's good to check that this is actually the case.\n",
    "# We therefore add a column to tf_df listing the length of each site\n",
    "\n",
    "# Compute the length of each site and record this in a 'length' column\n",
    "site_lengths = [len(site) for site in tf_df['site']]\n",
    "tf_df['length'] = site_lengths\n",
    "tf_df.head()"
   ]
  },
  {
   "cell_type": "markdown",
   "metadata": {},
   "source": [
    "## Exercises, part 1"
   ]
  },
  {
   "cell_type": "markdown",
   "metadata": {},
   "source": [
    "**E4.1.** Extract the `length` column of `tf_df` as a Series object, then use the `value_counts()` method to get a new Series object that lists number of times each length occurs."
   ]
  },
  {
   "cell_type": "code",
   "execution_count": null,
   "metadata": {
    "collapsed": true
   },
   "outputs": [],
   "source": [
    "# Answer here"
   ]
  },
  {
   "cell_type": "markdown",
   "metadata": {},
   "source": [
    "**E4.2.** Apparently there are sites of a bunch of different lengths. Use the ```idxmax()``` method on the result above to determine which binding site length is most common"
   ]
  },
  {
   "cell_type": "code",
   "execution_count": null,
   "metadata": {
    "collapsed": true
   },
   "outputs": [],
   "source": [
    "# Answer here"
   ]
  },
  {
   "cell_type": "markdown",
   "metadata": {},
   "source": [
    "**E4.3.** Remove rows from `tf_df` that do not correspond to the most common length."
   ]
  },
  {
   "cell_type": "code",
   "execution_count": null,
   "metadata": {
    "collapsed": true
   },
   "outputs": [],
   "source": [
    "# Answer here"
   ]
  },
  {
   "cell_type": "markdown",
   "metadata": {},
   "source": [
    "## Part 2"
   ]
  },
  {
   "cell_type": "code",
   "execution_count": null,
   "metadata": {
    "collapsed": true
   },
   "outputs": [],
   "source": [
    "# The anwers to the above exercises in one cryptic line of code\n",
    "tf_df = tf_df[tf_df['length']==tf_df['length'].value_counts().idxmax()] "
   ]
  },
  {
   "cell_type": "code",
   "execution_count": null,
   "metadata": {
    "collapsed": true
   },
   "outputs": [],
   "source": [
    "# Now extract the 'site' column from tf_df\n",
    "sites = tf_df['site']\n",
    "sites.head()"
   ]
  },
  {
   "cell_type": "code",
   "execution_count": null,
   "metadata": {
    "collapsed": true
   },
   "outputs": [],
   "source": [
    "# Using logomaker.alignment_to_matrix function, compute the number of times each base occurs at each position\n",
    "# Note that this returns a dataframe\n",
    "counts_mat = logomaker.alignment_to_matrix(sites)\n",
    "counts_mat.head()"
   ]
  },
  {
   "cell_type": "code",
   "execution_count": null,
   "metadata": {
    "collapsed": true
   },
   "outputs": [],
   "source": [
    "# This counts matrix can be visualized as a sequence logo\n",
    "logomaker.Logo(counts_mat)"
   ]
  },
  {
   "cell_type": "markdown",
   "metadata": {},
   "source": [
    "## Exercises, part 2"
   ]
  },
  {
   "cell_type": "markdown",
   "metadata": {},
   "source": [
    "**E4.4.** Counts logos shown above aren't what people use in publications. Rather, they typically use \"information\" logos, like the one shown earlier. By making use of the keyword argument  `to_type='information'` in the function `logomaker.alignment_to_matrix()`, create a CRP information logo."
   ]
  },
  {
   "cell_type": "code",
   "execution_count": null,
   "metadata": {
    "collapsed": true
   },
   "outputs": [],
   "source": [
    "# Answer here"
   ]
  },
  {
   "cell_type": "markdown",
   "metadata": {
    "collapsed": true
   },
   "source": [
    "**E4.5.** Again using the `value_counts()` method, determine how many binding sites there are for each transcription factor."
   ]
  },
  {
   "cell_type": "code",
   "execution_count": null,
   "metadata": {
    "collapsed": true
   },
   "outputs": [],
   "source": [
    "# Answer here"
   ]
  },
  {
   "cell_type": "markdown",
   "metadata": {},
   "source": [
    "**E4.6.** Fill out the function below so that the user can pass the name of any TF and get list of aligned sites back. Test that it works, e.g. on `tf='FNR'`, by getting a list of sites and making an information logo. Also test that it fails when it is supposed to."
   ]
  },
  {
   "cell_type": "code",
   "execution_count": null,
   "metadata": {
    "collapsed": true
   },
   "outputs": [],
   "source": [
    "# Now let's turn this into a function \n",
    "def get_tf_sites(tf):\n",
    "    \"\"\"\n",
    "    Fill in docstring here\n",
    "    \"\"\"\n",
    "   \n",
    "    # Load database\n",
    "    df = pd.read_csv(\"binding_site_db.txt\", \n",
    "                     sep='\\t', \n",
    "                     comment='#',\n",
    "                     header=None, \n",
    "                     usecols=[1,11], \n",
    "                     names=['tf','site'])\n",
    "    \n",
    "    # \n",
    "    # Fill in stuff here\n",
    "    # \n",
    "    \n",
    "    # Get sequence alignment and return it\n",
    "    return tf_df['site']\n"
   ]
  },
  {
   "cell_type": "code",
   "execution_count": null,
   "metadata": {
    "collapsed": true
   },
   "outputs": [],
   "source": []
  }
 ],
 "metadata": {
  "kernelspec": {
   "display_name": "anaconda_kernel",
   "language": "python",
   "name": "anaconda_kernel"
  },
  "language_info": {
   "codemirror_mode": {
    "name": "ipython",
    "version": 3
   },
   "file_extension": ".py",
   "mimetype": "text/x-python",
   "name": "python",
   "nbconvert_exporter": "python",
   "pygments_lexer": "ipython3",
   "version": "3.6.6"
  }
 },
 "nbformat": 4,
 "nbformat_minor": 1
}
