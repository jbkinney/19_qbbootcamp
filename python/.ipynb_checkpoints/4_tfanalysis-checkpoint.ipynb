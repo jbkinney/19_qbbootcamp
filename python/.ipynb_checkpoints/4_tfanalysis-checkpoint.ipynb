{
 "cells": [
  {
   "cell_type": "markdown",
   "metadata": {},
   "source": [
    "# Notebook 4: Pandas and TF binding site analysis"
   ]
  },
  {
   "cell_type": "markdown",
   "metadata": {},
   "source": [
    "Here we will start using Pandas. Pandas is the standard way of working with columnar data in Python. However, there is a substantial learning curve. If you want to learn more about Pandas, here is a useful site: http://pandas.pydata.org/"
   ]
  },
  {
   "cell_type": "markdown",
   "metadata": {},
   "source": [
    "Here we will use Pandas to analyze transcription factor (TF) binding sites from *Escherichia coli*. We will first focus on CRP, a major regulator in *E. coli* with over 350 functional binding sites.  "
   ]
  },
  {
   "cell_type": "markdown",
   "metadata": {},
   "source": [
    "## Part 1"
   ]
  },
  {
   "cell_type": "code",
   "execution_count": 1,
   "metadata": {
    "collapsed": true
   },
   "outputs": [],
   "source": [
    "# Put this forst\n",
    "import numpy as np\n",
    "import pandas as pd\n",
    "import matplotlib.pyplot as plt\n",
    "%matplotlib inline\n",
    "\n",
    "# Import logomaker; we will use this later for visualizing TF motifs.\n",
    "import logomaker "
   ]
  },
  {
   "cell_type": "code",
   "execution_count": 2,
   "metadata": {
    "collapsed": true
   },
   "outputs": [],
   "source": [
    "# We will be analyzing a standing database of TF binding sites, which is available on RegulonDB. \n",
    "# Here is a command for downloading this file (this didn't work in lecture 1)\n",
    "# !curl \"http://regulondb.ccg.unam.mx/menu/download/datasets/files/BindingSiteSet.txt \" -o binding_site_db.txt "
   ]
  },
  {
   "cell_type": "code",
   "execution_count": 3,
   "metadata": {},
   "outputs": [
    {
     "name": "stdout",
     "output_type": "stream",
     "text": [
      "# Copies and Copyright-Notice\r\n",
      "#\r\n",
      "#      RegulonDB is free for academic/noncommercial use\r\n",
      "#\r\n",
      "#      database or to eliminate copyright notices from RegulonDB. Furthermore,\r\n",
      "#      User is not entitled to expand RegulonDB or to integrate RegulonDB partly\r\n",
      "#      or as a whole into other databank systems, without prior written consent\r\n",
      "#      from CCG-UNAM.\r\n",
      "#\r\n",
      "#      Please check the license at http://regulondb.ccg.unam.mx/menu/download/full_version/terms_and_conditions.jsp\r\n",
      "#\r\n",
      "# Citation\r\n",
      "#\r\n",
      "#      Gama-Castro S et al. (2016). \"RegulonDB version 9.0: high-level integration of gene regulation, coexpression, motif clustering and beyond.\",\r\n",
      "#      Nucleic Acids Res. 2016 Jan 4;44(D1):D133-43. doi: 10.1093/nar/gkv1156. Epub 2015 Nov 2.\r\n",
      "#\r\n",
      "#\r\n",
      "# Contact\r\n",
      "#\r\n",
      "#      Person: RegulonDB Team\r\n",
      "#      Web Page: http://regulondb.ccg.unam.mx/menu/about_regulondb/contact_us/index.jsp\r\n",
      "#          (regulondb@ccg.unam.mx)\r\n",
      "#\r\n",
      "#\r\n",
      "# Release: 10.5 Date: 09/13/2018\r\n",
      "# Genome version: U00096.3, Refseq version; NC_000913.3 GI:556503834\r\n",
      "# ___________________________________________________________________________\r\n",
      "# Columns:\r\n",
      "# (1) Transcription Factor (TF) identifier assigned by RegulonDB\r\n",
      "# (2) TF name\r\n",
      "# (3) TF binding site (TF-bs) identifier assigned by RegulonDB\r\n",
      "# (4) TF-bs left end position in the genome\r\n",
      "# (5) TF-bs right end position in the genome\r\n",
      "# (6) DNA strand where the  TF-bs is located\r\n",
      "# (7) TF-Gene interaction identifier assigned by RegulonDB (related to the \"TF gene interactions\" file)\r\n",
      "# (8) Transcription unit regulated by the TF\r\n",
      "# (9) Gene expression effect caused by the TF bound to the  TF-bs (+ activation, - repression, +- dual, ? unknown)\r\n",
      "# (10) Promoter name\r\n",
      "# (11) Center position of TF-bs, relative to Transcription Start Site\r\n",
      "# (12) TF-bs sequence (upper case)\r\n",
      "# (13) Evidence that supports the existence of the TF-bs\r\n",
      "# (14) Evidence confidence level (Confirmed, Strong, Weak)\r\n",
      "ECK120015994\tAcrR\tECK125258528\t485709\t485732\treverse\tECK120033472\tacrAB\t-\tacrAp\t-22.5\tgcgttagattTACATACATTTGTGAATGTATGTAccatagcacg\t[BCE|W|Binding of cellular extracts],[GEA|W|Gene expression analysis],[BPP|S|Binding of purified proteins],[HIBSCS|W|Human inference based on similarity to consensus sequences]\tStrong\r\n",
      "ECK120015994\tAcrR\tECK125258528\t485709\t485732\tforward\tECK125134945\tacrR\t-\tacrRp\t22.5\tcgtgctatggTACATACATTCACAAATGTATGTAaatctaacgc\t[BCE|W|Binding of cellular extracts],[GEA|W|Gene expression analysis],[AIBSCS|W|Automated inference based on similarity to consensus sequences],[BPP|S|Binding of purified proteins],[HIBSCS|W|Human inference based on similarity to consensus sequences]\tStrong\r\n",
      "ECK120015994\tAcrR\tECK125202663\t1619048\t1619058\tforward\tECK125202664\tmarRAB\t-\tmarRp\t-40.5\tcatcggtcaaTTCATTCATTtgacttatac\t[GEA|W|Gene expression analysis],[BPP|S|Binding of purified proteins],[HIBSCS|W|Human inference based on similarity to consensus sequences]\tStrong\r\n",
      "ECK120015994\tAcrR\tECK125242724\t1978422\t1978432\treverse\tECK125242725\tflhDC\t-\tflhDp\t-31.5\ttcactacacgCACATACAACggaggggggc\t[GEA|W|Gene expression analysis],[HIBSCS|W|Human inference based on similarity to consensus sequences]\tWeak\r\n",
      "ECK120015994\tAcrR\tECK120035040\t2313112\t2313135\tforward\tECK120035041\tmicF\t-\tmicFp\t41\tatttattaccGTCATTCATTTCTGAATGTCTGTTtacccctatt\t[AIBSCS|W|Automated inference based on similarity to consensus sequences]\tWeak\r\n",
      "ECK120015994\tAcrR\tECK125202665\t4277444\t4277454\tforward\tECK125202666\tsoxR\t-\tsoxRp\t2.5\tgctttacctcAAGTTAACTTgaggaattat\t[GEA|W|Gene expression analysis],[BPP|S|Binding of purified proteins],[HIBSCS|W|Human inference based on similarity to consensus sequences]\tStrong\r\n",
      "ECK120015994\tAcrR\tECK125202665\t4277444\t4277454\treverse\tECK125202667\tsoxS\t-\tsoxSp\t-25.5\tataattcctcAAGTTAACTTgaggtaaagc\t[GEA|W|Gene expression analysis],[BPP|S|Binding of purified proteins],[HIBSCS|W|Human inference based on similarity to consensus sequences]\tStrong\r\n",
      "ECK120012595\tAda\tECK120012597\t2147589\t2147613\treverse\tECK120031098\talkA\t+\talkAp\t-41.5\tttcagacgctGCGCTTTGCTTTCATATTCCGGTTgtcgcgacgg\t[GEA|W|Gene expression analysis],[SM|S|Site mutation],[BPP|S|Binding of purified proteins],[HIBSCS|W|Human inference based on similarity to consensus sequences]\tStrong\r\n"
     ]
    }
   ],
   "source": [
    "# Let's see what this database looks like\n",
    "!head -n 50 binding_site_db.txt"
   ]
  },
  {
   "cell_type": "code",
   "execution_count": null,
   "metadata": {
    "collapsed": true
   },
   "outputs": [],
   "source": [
    "# To parse this file, use Pandas's method read_csv. \n",
    "# We pass the name of this file, as well as other keyword arguments:\n",
    "#     sep='\\t': columns are delimited by tabs\n",
    "#     comment='#': ignore rows that begin with this\n",
    "#     header=None: the first row is NOT the name of the columns\n",
    "# The results are stored as an object known as a dataframe\n",
    "df = pd.read_csv(\"binding_site_db.txt\", \n",
    "                 sep='\\t', \n",
    "                 comment='#', \n",
    "                 header=None)\n",
    "\n",
    "# Tells us that we're working with a DataFrame object\n",
    "print(type(df))\n",
    "\n",
    "# To check that the data has been properly loaded, call the method df.head()\n",
    "df.head()"
   ]
  },
  {
   "cell_type": "code",
   "execution_count": null,
   "metadata": {
    "collapsed": true
   },
   "outputs": [],
   "source": [
    "# You get the number of rows and columns from the attribute df.shape\n",
    "df.shape"
   ]
  },
  {
   "cell_type": "code",
   "execution_count": null,
   "metadata": {
    "collapsed": true
   },
   "outputs": [],
   "source": [
    "# We only want the TF name (column 1) and the TF binding site sequence (column 11)\n",
    "# To keep only these columns, index the df using a list of column names you want (in the order you want)\n",
    "col_names = [1,11]\n",
    "df = df[col_names]\n",
    "df.head()"
   ]
  },
  {
   "cell_type": "code",
   "execution_count": null,
   "metadata": {
    "collapsed": true
   },
   "outputs": [],
   "source": [
    "# Data frames allow users to give columns meaningful names.\n",
    "# To rename the columns, set df.columns to a list of the desired names.\n",
    "df.columns = ['tf','site']\n",
    "df.tail()"
   ]
  },
  {
   "cell_type": "code",
   "execution_count": null,
   "metadata": {
    "collapsed": true
   },
   "outputs": [],
   "source": [
    "# Note that the last two modifications of df can be accomplished in one line \n",
    "df = pd.read_csv(\"binding_site_db.txt\", \n",
    "                 sep='\\t', \n",
    "                 comment='#',\n",
    "                 header=None, \n",
    "                 usecols=[1,11], \n",
    "                 names=['tf','site'])\n",
    "df.head()"
   ]
  },
  {
   "cell_type": "code",
   "execution_count": null,
   "metadata": {
    "collapsed": true
   },
   "outputs": [],
   "source": [
    "# Check out the pd.read_csv() documentation for a full list\n",
    "pd.read_csv?"
   ]
  },
  {
   "cell_type": "code",
   "execution_count": null,
   "metadata": {
    "collapsed": true
   },
   "outputs": [],
   "source": [
    "# Dataframe columns are called 'Series' objects. \n",
    "# Essentially, they're numpy arrays with some extra sugar.\n",
    "col = df['tf']\n",
    "print(type(col))\n",
    "col.head()"
   ]
  },
  {
   "cell_type": "code",
   "execution_count": null,
   "metadata": {
    "collapsed": true
   },
   "outputs": [],
   "source": [
    "# You can extract an element from a dataframe by using .loc[]\n",
    "df.loc[3,'site']"
   ]
  },
  {
   "cell_type": "markdown",
   "metadata": {},
   "source": [
    "Our goal is to generate sequence logos that represents the binding preferences of TFs in this database.  As a concrete example we'll use CRP, which has a well-characterized binding motif shown here:\n",
    "\n",
    "<img src=\"crp_information_logo.png\" alt=\"Drawing\" style=\"width: 700px;\"/>"
   ]
  },
  {
   "cell_type": "code",
   "execution_count": null,
   "metadata": {
    "collapsed": true
   },
   "outputs": [],
   "source": [
    "# Choose a TF\n",
    "tf = 'CRP'\n",
    "\n",
    "# Flag which rows in the dataframe have the correct TF name\n",
    "flags = (df['tf']==tf)\n",
    "\n",
    "# Grab those rows. To be safe use copy() to make sure that, if we\n",
    "# alter tf_df, df itself doesn't change\n",
    "tf_df = df[flags].copy()\n",
    "tf_df.head(20)"
   ]
  },
  {
   "cell_type": "code",
   "execution_count": null,
   "metadata": {
    "collapsed": true
   },
   "outputs": [],
   "source": [
    "# To get rid of rows with missing data, use dropna\n",
    "tf_df.dropna(inplace=True)\n",
    "tf_df.head()"
   ]
  },
  {
   "cell_type": "code",
   "execution_count": null,
   "metadata": {
    "collapsed": true
   },
   "outputs": [],
   "source": [
    "# Each DNA binding site should be capitalized.\n",
    "# To do this, we reset 'site' column of tf_df\n",
    "\n",
    "# Get list of capitalized sites and replace the 'site' column with this\n",
    "capitalized_sites = [site.upper() for site in tf_df['site']]\n",
    "tf_df['site'] = capitalized_sites\n",
    "tf_df.head()"
   ]
  },
  {
   "cell_type": "code",
   "execution_count": null,
   "metadata": {
    "collapsed": true
   },
   "outputs": [],
   "source": [
    "# In order to derive a motif, all sites we analyze need to be the same length.\n",
    "# It's good to check that this is actually the case.\n",
    "# We therefore add a column to tf_df listing the length of each site\n",
    "\n",
    "# Compute the length of each site and record this in a 'length' column\n",
    "site_lengths = [len(site) for site in tf_df['site']]\n",
    "tf_df['length'] = site_lengths\n",
    "tf_df.head()"
   ]
  },
  {
   "cell_type": "markdown",
   "metadata": {},
   "source": [
    "## Exercises, part 1"
   ]
  },
  {
   "cell_type": "markdown",
   "metadata": {},
   "source": [
    "**E4.1.** Extract the `length` column of `tf_df` as a Series object, then use the `value_counts()` method to get a new Series object that lists number of times each length occurs."
   ]
  },
  {
   "cell_type": "code",
   "execution_count": null,
   "metadata": {
    "collapsed": true
   },
   "outputs": [],
   "source": [
    "# Answer here"
   ]
  },
  {
   "cell_type": "markdown",
   "metadata": {},
   "source": [
    "**E4.2.** Apparently there are sites of a bunch of different lengths. Use the ```idxmax()``` method on the result above to determine which binding site length is most common"
   ]
  },
  {
   "cell_type": "code",
   "execution_count": null,
   "metadata": {
    "collapsed": true
   },
   "outputs": [],
   "source": [
    "# Answer here"
   ]
  },
  {
   "cell_type": "markdown",
   "metadata": {},
   "source": [
    "**E4.3.** Remove rows from `tf_df` that do not correspond to the most common length."
   ]
  },
  {
   "cell_type": "code",
   "execution_count": null,
   "metadata": {
    "collapsed": true
   },
   "outputs": [],
   "source": [
    "# Answer here"
   ]
  },
  {
   "cell_type": "markdown",
   "metadata": {},
   "source": [
    "## Part 2"
   ]
  },
  {
   "cell_type": "code",
   "execution_count": null,
   "metadata": {
    "collapsed": true
   },
   "outputs": [],
   "source": [
    "# The anwers to the above exercises in one cryptic line of code\n",
    "tf_df = tf_df[tf_df['length']==tf_df['length'].value_counts().idxmax()] "
   ]
  },
  {
   "cell_type": "code",
   "execution_count": null,
   "metadata": {
    "collapsed": true
   },
   "outputs": [],
   "source": [
    "# Now extract the 'site' column from tf_df\n",
    "sites = tf_df['site']\n",
    "sites.head()"
   ]
  },
  {
   "cell_type": "code",
   "execution_count": null,
   "metadata": {
    "collapsed": true
   },
   "outputs": [],
   "source": [
    "# Using logomaker.alignment_to_matrix function, compute the number of times each base occurs at each position\n",
    "# Note that this returns a dataframe\n",
    "counts_mat = logomaker.alignment_to_matrix(sites)\n",
    "counts_mat.head()"
   ]
  },
  {
   "cell_type": "code",
   "execution_count": null,
   "metadata": {
    "collapsed": true
   },
   "outputs": [],
   "source": [
    "# This counts matrix can be visualized as a sequence logo\n",
    "logomaker.Logo(counts_mat)"
   ]
  },
  {
   "cell_type": "markdown",
   "metadata": {},
   "source": [
    "## Exercises, part 2"
   ]
  },
  {
   "cell_type": "markdown",
   "metadata": {},
   "source": [
    "**E4.4.** Counts logos shown above aren't what people use in publications. Rather, they typically use \"information\" logos, like the one shown earlier. By making use of the keyword argument  `to_type='information'` in the function `logomaker.alignment_to_matrix()`, create a CRP information logo."
   ]
  },
  {
   "cell_type": "code",
   "execution_count": null,
   "metadata": {
    "collapsed": true
   },
   "outputs": [],
   "source": [
    "# Answer here"
   ]
  },
  {
   "cell_type": "markdown",
   "metadata": {
    "collapsed": true
   },
   "source": [
    "**E4.5.** Again using the `value_counts()` method, determine how many binding sites there are for each transcription factor."
   ]
  },
  {
   "cell_type": "code",
   "execution_count": null,
   "metadata": {
    "collapsed": true
   },
   "outputs": [],
   "source": [
    "# Answer here"
   ]
  },
  {
   "cell_type": "markdown",
   "metadata": {},
   "source": [
    "**E4.6.** Fill out the function below so that the user can pass the name of any TF and get list of aligned sites back. Test that it works, e.g. on `tf='FNR'`, by getting a list of sites and making an information logo. Also test that it fails when it is supposed to."
   ]
  },
  {
   "cell_type": "code",
   "execution_count": null,
   "metadata": {
    "collapsed": true
   },
   "outputs": [],
   "source": [
    "# Now let's turn this into a function \n",
    "def get_tf_sites(tf):\n",
    "    \"\"\"\n",
    "    Fill in docstring here\n",
    "    \"\"\"\n",
    "   \n",
    "    # Load database\n",
    "    df = pd.read_csv(\"binding_site_db.txt\", \n",
    "                     sep='\\t', \n",
    "                     comment='#',\n",
    "                     header=None, \n",
    "                     usecols=[1,11], \n",
    "                     names=['tf','site'])\n",
    "    \n",
    "    # \n",
    "    # Fill in stuff here\n",
    "    # \n",
    "    \n",
    "    # Get sequence alignment and return it\n",
    "    return tf_df['site']\n"
   ]
  },
  {
   "cell_type": "code",
   "execution_count": null,
   "metadata": {
    "collapsed": true
   },
   "outputs": [],
   "source": []
  }
 ],
 "metadata": {
  "kernelspec": {
   "display_name": "anaconda_kernel",
   "language": "python",
   "name": "anaconda_kernel"
  },
  "language_info": {
   "codemirror_mode": {
    "name": "ipython",
    "version": 3
   },
   "file_extension": ".py",
   "mimetype": "text/x-python",
   "name": "python",
   "nbconvert_exporter": "python",
   "pygments_lexer": "ipython3",
   "version": "3.6.6"
  }
 },
 "nbformat": 4,
 "nbformat_minor": 1
}
