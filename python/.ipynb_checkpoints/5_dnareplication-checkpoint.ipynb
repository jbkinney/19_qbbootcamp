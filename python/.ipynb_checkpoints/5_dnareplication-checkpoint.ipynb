{
 "cells": [
  {
   "cell_type": "markdown",
   "metadata": {},
   "source": [
    "# Notebook 5: Visualizing DNA replication profiles\n",
    "\n",
    "### by Justin B. Kinney"
   ]
  },
  {
   "cell_type": "markdown",
   "metadata": {},
   "source": [
    "In this exercise we will use Pandas to analyze the DNA replication origin data that we mapped earlier today."
   ]
  },
  {
   "cell_type": "code",
   "execution_count": 1,
   "metadata": {
    "collapsed": true
   },
   "outputs": [],
   "source": [
    "# Always put this first\n",
    "%matplotlib inline\n",
    "from __future__ import division\n",
    "import numpy as np\n",
    "import pandas as pd\n",
    "import matplotlib.pyplot as plt\n",
    "import seaborn as sns\n",
    "sns.set_style('white')"
   ]
  },
  {
   "cell_type": "markdown",
   "metadata": {},
   "source": [
    "The files we want are the X1.pileup.bed files. Let's use 'cat' to see what these files look like"
   ]
  },
  {
   "cell_type": "code",
   "execution_count": 2,
   "metadata": {},
   "outputs": [
    {
     "name": "stdout",
     "output_type": "stream",
     "text": [
      "browser position chrIV:1-1531933\r\n",
      "track type=bedGraph visibility=2 name=\"A1\" description=\"A1\"\r\n",
      "chrI\t1\t31\t2\t\r\n",
      "chrI\t32\t62\t0\t\r\n",
      "chrI\t63\t93\t1\t\r\n",
      "chrI\t94\t124\t0\t\r\n",
      "chrI\t125\t155\t3\t\r\n",
      "chrI\t156\t186\t0\t\r\n",
      "chrI\t187\t217\t0\t\r\n",
      "chrI\t218\t248\t0\t\r\n"
     ]
    }
   ],
   "source": [
    "# Warning: won't work on Windows machines\n",
    "!head A1.pileup.bed"
   ]
  },
  {
   "cell_type": "markdown",
   "metadata": {},
   "source": [
    "This is a tab-delimited text file. This is exactly the kind of file that Pandas is designed to work with. Let's open the file up using pandas"
   ]
  },
  {
   "cell_type": "code",
   "execution_count": 3,
   "metadata": {},
   "outputs": [
    {
     "name": "stdout",
     "output_type": "stream",
     "text": [
      "(389384, 4)\n"
     ]
    }
   ],
   "source": [
    "# Read file into a pandas \"data frame\"\n",
    "df = pd.read_csv('A1.pileup.bed',  \n",
    "                 names=['chromosome','start','stop','reads'], \n",
    "                 delim_whitespace=True, \n",
    "                 skiprows=2)\n",
    "\n",
    "# Show dataframe shape\n",
    "print(df.shape)"
   ]
  },
  {
   "cell_type": "code",
   "execution_count": 4,
   "metadata": {},
   "outputs": [
    {
     "data": {
      "text/html": [
       "<div>\n",
       "<style scoped>\n",
       "    .dataframe tbody tr th:only-of-type {\n",
       "        vertical-align: middle;\n",
       "    }\n",
       "\n",
       "    .dataframe tbody tr th {\n",
       "        vertical-align: top;\n",
       "    }\n",
       "\n",
       "    .dataframe thead th {\n",
       "        text-align: right;\n",
       "    }\n",
       "</style>\n",
       "<table border=\"1\" class=\"dataframe\">\n",
       "  <thead>\n",
       "    <tr style=\"text-align: right;\">\n",
       "      <th></th>\n",
       "      <th>chromosome</th>\n",
       "      <th>start</th>\n",
       "      <th>stop</th>\n",
       "      <th>reads</th>\n",
       "    </tr>\n",
       "  </thead>\n",
       "  <tbody>\n",
       "    <tr>\n",
       "      <td>0</td>\n",
       "      <td>chrI</td>\n",
       "      <td>1</td>\n",
       "      <td>31</td>\n",
       "      <td>2</td>\n",
       "    </tr>\n",
       "    <tr>\n",
       "      <td>1</td>\n",
       "      <td>chrI</td>\n",
       "      <td>32</td>\n",
       "      <td>62</td>\n",
       "      <td>0</td>\n",
       "    </tr>\n",
       "    <tr>\n",
       "      <td>2</td>\n",
       "      <td>chrI</td>\n",
       "      <td>63</td>\n",
       "      <td>93</td>\n",
       "      <td>1</td>\n",
       "    </tr>\n",
       "    <tr>\n",
       "      <td>3</td>\n",
       "      <td>chrI</td>\n",
       "      <td>94</td>\n",
       "      <td>124</td>\n",
       "      <td>0</td>\n",
       "    </tr>\n",
       "    <tr>\n",
       "      <td>4</td>\n",
       "      <td>chrI</td>\n",
       "      <td>125</td>\n",
       "      <td>155</td>\n",
       "      <td>3</td>\n",
       "    </tr>\n",
       "  </tbody>\n",
       "</table>\n",
       "</div>"
      ],
      "text/plain": [
       "  chromosome  start  stop  reads\n",
       "0       chrI      1    31      2\n",
       "1       chrI     32    62      0\n",
       "2       chrI     63    93      1\n",
       "3       chrI     94   124      0\n",
       "4       chrI    125   155      3"
      ]
     },
     "execution_count": 4,
     "metadata": {},
     "output_type": "execute_result"
    }
   ],
   "source": [
    "# Show first 5 rows\n",
    "df.head()"
   ]
  },
  {
   "cell_type": "code",
   "execution_count": 5,
   "metadata": {},
   "outputs": [
    {
     "data": {
      "text/html": [
       "<div>\n",
       "<style scoped>\n",
       "    .dataframe tbody tr th:only-of-type {\n",
       "        vertical-align: middle;\n",
       "    }\n",
       "\n",
       "    .dataframe tbody tr th {\n",
       "        vertical-align: top;\n",
       "    }\n",
       "\n",
       "    .dataframe thead th {\n",
       "        text-align: right;\n",
       "    }\n",
       "</style>\n",
       "<table border=\"1\" class=\"dataframe\">\n",
       "  <thead>\n",
       "    <tr style=\"text-align: right;\">\n",
       "      <th></th>\n",
       "      <th>chromosome</th>\n",
       "      <th>start</th>\n",
       "      <th>stop</th>\n",
       "      <th>reads</th>\n",
       "    </tr>\n",
       "  </thead>\n",
       "  <tbody>\n",
       "    <tr>\n",
       "      <td>389379</td>\n",
       "      <td>chrXVI</td>\n",
       "      <td>947888</td>\n",
       "      <td>947918</td>\n",
       "      <td>6</td>\n",
       "    </tr>\n",
       "    <tr>\n",
       "      <td>389380</td>\n",
       "      <td>chrXVI</td>\n",
       "      <td>947919</td>\n",
       "      <td>947949</td>\n",
       "      <td>4</td>\n",
       "    </tr>\n",
       "    <tr>\n",
       "      <td>389381</td>\n",
       "      <td>chrXVI</td>\n",
       "      <td>947950</td>\n",
       "      <td>947980</td>\n",
       "      <td>8</td>\n",
       "    </tr>\n",
       "    <tr>\n",
       "      <td>389382</td>\n",
       "      <td>chrXVI</td>\n",
       "      <td>947981</td>\n",
       "      <td>948011</td>\n",
       "      <td>7</td>\n",
       "    </tr>\n",
       "    <tr>\n",
       "      <td>389383</td>\n",
       "      <td>chrXVI</td>\n",
       "      <td>948012</td>\n",
       "      <td>948042</td>\n",
       "      <td>13</td>\n",
       "    </tr>\n",
       "  </tbody>\n",
       "</table>\n",
       "</div>"
      ],
      "text/plain": [
       "       chromosome   start    stop  reads\n",
       "389379     chrXVI  947888  947918      6\n",
       "389380     chrXVI  947919  947949      4\n",
       "389381     chrXVI  947950  947980      8\n",
       "389382     chrXVI  947981  948011      7\n",
       "389383     chrXVI  948012  948042     13"
      ]
     },
     "execution_count": 5,
     "metadata": {},
     "output_type": "execute_result"
    }
   ],
   "source": [
    "# Check the last 5 rows of the dataframe\n",
    "df.tail()"
   ]
  },
  {
   "cell_type": "code",
   "execution_count": 6,
   "metadata": {},
   "outputs": [
    {
     "name": "stdout",
     "output_type": "stream",
     "text": [
      "chr4_df has 49417 rows\n"
     ]
    },
    {
     "data": {
      "text/html": [
       "<div>\n",
       "<style scoped>\n",
       "    .dataframe tbody tr th:only-of-type {\n",
       "        vertical-align: middle;\n",
       "    }\n",
       "\n",
       "    .dataframe tbody tr th {\n",
       "        vertical-align: top;\n",
       "    }\n",
       "\n",
       "    .dataframe thead th {\n",
       "        text-align: right;\n",
       "    }\n",
       "</style>\n",
       "<table border=\"1\" class=\"dataframe\">\n",
       "  <thead>\n",
       "    <tr style=\"text-align: right;\">\n",
       "      <th></th>\n",
       "      <th>chromosome</th>\n",
       "      <th>start</th>\n",
       "      <th>stop</th>\n",
       "      <th>reads</th>\n",
       "    </tr>\n",
       "  </thead>\n",
       "  <tbody>\n",
       "    <tr>\n",
       "      <td>43869</td>\n",
       "      <td>chrIV</td>\n",
       "      <td>1</td>\n",
       "      <td>31</td>\n",
       "      <td>0</td>\n",
       "    </tr>\n",
       "    <tr>\n",
       "      <td>43870</td>\n",
       "      <td>chrIV</td>\n",
       "      <td>32</td>\n",
       "      <td>62</td>\n",
       "      <td>1</td>\n",
       "    </tr>\n",
       "    <tr>\n",
       "      <td>43871</td>\n",
       "      <td>chrIV</td>\n",
       "      <td>63</td>\n",
       "      <td>93</td>\n",
       "      <td>1</td>\n",
       "    </tr>\n",
       "    <tr>\n",
       "      <td>43872</td>\n",
       "      <td>chrIV</td>\n",
       "      <td>94</td>\n",
       "      <td>124</td>\n",
       "      <td>1</td>\n",
       "    </tr>\n",
       "    <tr>\n",
       "      <td>43873</td>\n",
       "      <td>chrIV</td>\n",
       "      <td>125</td>\n",
       "      <td>155</td>\n",
       "      <td>0</td>\n",
       "    </tr>\n",
       "  </tbody>\n",
       "</table>\n",
       "</div>"
      ],
      "text/plain": [
       "      chromosome  start  stop  reads\n",
       "43869      chrIV      1    31      0\n",
       "43870      chrIV     32    62      1\n",
       "43871      chrIV     63    93      1\n",
       "43872      chrIV     94   124      1\n",
       "43873      chrIV    125   155      0"
      ]
     },
     "execution_count": 6,
     "metadata": {},
     "output_type": "execute_result"
    }
   ],
   "source": [
    "# Extract values for chromosome IV only. \n",
    "chrom_we_want = 'chrIV'\n",
    "flags = df.loc[:,'chromosome']==chrom_we_want\n",
    "chr4_df = df.loc[flags,:]\n",
    "print('chr4_df has %d rows'%len(chr4_df))\n",
    "chr4_df.head()"
   ]
  },
  {
   "cell_type": "code",
   "execution_count": 7,
   "metadata": {},
   "outputs": [
    {
     "name": "stdout",
     "output_type": "stream",
     "text": [
      "31\n"
     ]
    }
   ],
   "source": [
    "# Compute read length\n",
    "read_length = df.loc[0,'stop'] - df.loc[0,'start'] + 1\n",
    "print(read_length)"
   ]
  },
  {
   "cell_type": "markdown",
   "metadata": {},
   "source": [
    "Now let's plot these number of reads across the chromosome."
   ]
  },
  {
   "cell_type": "code",
   "execution_count": 8,
   "metadata": {},
   "outputs": [
    {
     "data": {
      "text/plain": [
       "[<matplotlib.lines.Line2D at 0x1089866d8>]"
      ]
     },
     "execution_count": 8,
     "metadata": {},
     "output_type": "execute_result"
    },
    {
     "data": {
      "image/png": "[encoded data removed]",
      "text/plain": [
       "<Figure size 432x288 with 1 Axes>"
      ]
     },
     "metadata": {},
     "output_type": "display_data"
    }
   ],
   "source": [
    "# Extract vectors of starts, stops, and number of reads\n",
    "starts = chr4_df.loc[:,'start'].values\n",
    "stops = chr4_df.loc[:,'stop'].values\n",
    "num_reads = chr4_df.loc[:,'reads'].astype(float).values\n",
    "\n",
    "# Plot the starts\n",
    "plt.plot(starts, num_reads)"
   ]
  },
  {
   "cell_type": "markdown",
   "metadata": {},
   "source": [
    "Well, this kinda looks right. But we're too far away to see what's going on well. Let's zoom in"
   ]
  },
  {
   "cell_type": "code",
   "execution_count": 9,
   "metadata": {},
   "outputs": [
    {
     "data": {
      "text/plain": [
       "[<matplotlib.lines.Line2D at 0x1a1e316be0>]"
      ]
     },
     "execution_count": 9,
     "metadata": {},
     "output_type": "execute_result"
    },
    {
     "data": {
      "image/png": "[encoded data removed]",
      "text/plain": [
       "<Figure size 432x288 with 1 Axes>"
      ]
     },
     "metadata": {},
     "output_type": "display_data"
    }
   ],
   "source": [
    "# Zoom in to region between 400K and 500k\n",
    "zoom_indices = (starts > 4E5) & (starts < 5E5)\n",
    "plt.plot(starts[zoom_indices], num_reads[zoom_indices])"
   ]
  },
  {
   "cell_type": "markdown",
   "metadata": {},
   "source": [
    "It's becomming clear that, in order to make sense of this data, we're going to need to smooth it. How do we do that? Fortunately, SciPy contains tons of routines for signal processing like this. "
   ]
  },
  {
   "cell_type": "code",
   "execution_count": 10,
   "metadata": {},
   "outputs": [
    {
     "name": "stdout",
     "output_type": "stream",
     "text": [
      "193\n"
     ]
    }
   ],
   "source": [
    "# Create a \"kernel\" with which to smooth the data\n",
    "# from experience, 6 kb is a nice window size\n",
    "window_bp = 6000\n",
    "read_length = 31\n",
    "window_size = window_bp//read_length\n",
    "print(window_size)"
   ]
  },
  {
   "cell_type": "code",
   "execution_count": 11,
   "metadata": {},
   "outputs": [
    {
     "data": {
      "text/plain": [
       "1.0000000000000024"
      ]
     },
     "execution_count": 11,
     "metadata": {},
     "output_type": "execute_result"
    }
   ],
   "source": [
    "# Create a window kernel so that all elements sum to 1\n",
    "window = np.ones(window_size)/window_size\n",
    "\n",
    "# Make sure that the window is properly normalized\n",
    "sum(window)"
   ]
  },
  {
   "cell_type": "code",
   "execution_count": 12,
   "metadata": {
    "collapsed": true
   },
   "outputs": [],
   "source": [
    "from scipy.signal import convolve\n",
    "\n",
    "# Smooth the data by convolving the window with the read counts\n",
    "smooth_reads = convolve(num_reads,window,'same')"
   ]
  },
  {
   "cell_type": "code",
   "execution_count": 13,
   "metadata": {},
   "outputs": [
    {
     "data": {
      "text/plain": [
       "[<matplotlib.lines.Line2D at 0x1a1c6e2eb8>]"
      ]
     },
     "execution_count": 13,
     "metadata": {},
     "output_type": "execute_result"
    },
    {
     "data": {
      "image/png": "[encoded data removed]",
      "text/plain": [
       "<Figure size 432x288 with 1 Axes>"
      ]
     },
     "metadata": {},
     "output_type": "display_data"
    }
   ],
   "source": [
    "plt.plot(starts[zoom_indices], num_reads[zoom_indices])\n",
    "plt.plot(starts[zoom_indices], smooth_reads[zoom_indices])"
   ]
  },
  {
   "cell_type": "markdown",
   "metadata": {},
   "source": [
    "Hm, this is a bit hard to see. Let's clairfy the plot."
   ]
  },
  {
   "cell_type": "code",
   "execution_count": 14,
   "metadata": {},
   "outputs": [
    {
     "data": {
      "text/plain": [
       "[<matplotlib.lines.Line2D at 0x1a1c7f69e8>]"
      ]
     },
     "execution_count": 14,
     "metadata": {},
     "output_type": "execute_result"
    },
    {
     "data": {
      "image/png": "[encoded data removed]",
      "text/plain": [
       "<Figure size 432x288 with 1 Axes>"
      ]
     },
     "metadata": {},
     "output_type": "display_data"
    }
   ],
   "source": [
    "orange = [1, .5, 0]\n",
    "lightblue = [0, .5, 1]\n",
    "plt.plot(starts[zoom_indices], num_reads[zoom_indices], color=orange)\n",
    "plt.plot(starts[zoom_indices], smooth_reads[zoom_indices], color=lightblue, linewidth=3)"
   ]
  },
  {
   "cell_type": "markdown",
   "metadata": {},
   "source": [
    "Great. Now let's make a chromosome-wide replication profile. Let's also put a little effort into making it look pretty. "
   ]
  },
  {
   "cell_type": "code",
   "execution_count": 50,
   "metadata": {},
   "outputs": [
    {
     "data": {
      "image/png": "[encoded data removed]",
      "text/plain": [
       "<Figure size 1440x180 with 1 Axes>"
      ]
     },
     "metadata": {},
     "output_type": "display_data"
    }
   ],
   "source": [
    "# Easier to discuss genomic positions in kb\n",
    "kb = 1E3\n",
    "x = 0.5*(starts+stops)/kb\n",
    "L = max(x)\n",
    "\n",
    "figure_size = [20,2.5]\n",
    "label_size = 16\n",
    "title_size = 20\n",
    "plt.figure(figsize=figure_size)\n",
    "\n",
    "# Plot\n",
    "plt.fill_between(x, smooth_reads, color='black')\n",
    "\n",
    "# Place tick marks on x axis ever 200 kb\n",
    "plt.xticks(np.arange(0, L, 200), fontsize=label_size)\n",
    "\n",
    "# Fit plot to precisely the width of the chromosome\n",
    "plt.xlim([min(x), max(x)])\n",
    "\n",
    "# Choose ylims too\n",
    "plt.ylim(0,max(smooth_reads*1.2))\n",
    "\n",
    "# Turn off box\n",
    "plt.box(False)\n",
    "\n",
    "# No need to show ticks on the y axes\n",
    "plt.yticks([])\n",
    "\n",
    "# Add some text annotation, telling the user\n",
    "plt.title('DNA replication profile', fontsize=title_size)\n",
    "plt.xlabel(chrom_we_want + ' position (kb)', fontsize=label_size)\n",
    "\n",
    "# Fix spacing\n",
    "plt.tight_layout()\n",
    "\n",
    "file_name = 'profile_for_%s.png'%chrom_we_want\n",
    "plt.savefig(file_name)\n",
    "\n",
    "plt.show()"
   ]
  },
  {
   "cell_type": "markdown",
   "metadata": {},
   "source": [
    "Great! With this smoothed data we can go ahead and identify peaks in the replicaiton profile, measure their width, height, etc. "
   ]
  },
  {
   "cell_type": "code",
   "execution_count": 26,
   "metadata": {},
   "outputs": [
    {
     "name": "stdout",
     "output_type": "stream",
     "text": [
      "total 102144\r\n",
      "drwxr-xr-x@ 23 jkinney  staff   736B Aug 23 14:05 \u001b[1m\u001b[34m.\u001b[m\u001b[m\r\n",
      "drwxr-xr-x   7 jkinney  staff   224B Aug 23 10:27 \u001b[1m\u001b[34m..\u001b[m\u001b[m\r\n",
      "-rwxr-xr-x@  1 jkinney  staff   6.0K Aug 23 10:26 \u001b[1m\u001b[32m.DS_Store\u001b[m\u001b[m\r\n",
      "drwxr-xr-x@ 18 jkinney  staff   576B Aug 23 11:11 \u001b[1m\u001b[34m.ipynb_checkpoints\u001b[m\u001b[m\r\n",
      "-rw-r--r--   1 jkinney  staff    12K Aug 23 10:38 1_introduction.ipynb\r\n",
      "-rw-r--r--   1 jkinney  staff    16K Aug 23 10:46 2_datatypes.ipynb\r\n",
      "-rwxr-xr-x@  1 jkinney  staff    17K Aug 23 10:53 \u001b[1m\u001b[32m3_flowcontrol.ipynb\u001b[m\u001b[m\r\n",
      "-rw-------@  1 jkinney  staff    12K Aug 23 11:38 4_tfanalysis.ipynb\r\n",
      "-rw-------@  1 jkinney  staff   182K Aug 23 14:05 5_replication_analysis.ipynb\r\n",
      "-rw-r--r--   1 jkinney  staff    25K Aug 23 10:21 6_other_resources.ipynb\r\n",
      "-rw-------@  1 jkinney  staff   8.7M Nov  7  2011 A1.pileup.bed\r\n",
      "-rw-------@  1 jkinney  staff   8.7M Nov  7  2011 B1.pileup.bed\r\n",
      "-rw-------@  1 jkinney  staff   8.7M Nov  8  2011 C1.pileup.bed\r\n",
      "-rw-------   1 jkinney  staff   8.7M Jul 19  2016 D1.pileup.bed\r\n",
      "-rw-r--r--@  1 jkinney  staff   826K Jan 21  2019 binding_site_db.txt\r\n",
      "-rw-r--r--@  1 jkinney  staff   1.2M Aug 23 14:05 chrII_all_samples.pdf\r\n",
      "-rw-r--r--   1 jkinney  staff    28K Jun 25 10:59 crp_information_logo.png\r\n",
      "-rw-r--r--@  1 jkinney  staff   107K Jun 11 13:40 cshl.jpg\r\n",
      "-rw-r--r--@  1 jkinney  staff    19K Aug 23 11:39 exercise_answers.ipynb\r\n",
      "-rwxr-xr-x   1 jkinney  staff    50B Aug 23 10:21 \u001b[1m\u001b[32mhello_world.py\u001b[m\u001b[m\r\n",
      "-rw-r--r--@  1 jkinney  staff    24K Aug 23 14:05 profile_for_chrII.png\r\n",
      "-rw-r--r--@  1 jkinney  staff    25K Aug 23 14:03 profile_for_chrIV.png\r\n",
      "-rw-r--r--@  1 jkinney  staff    12M Aug 23 10:21 s288c.fa\r\n"
     ]
    }
   ],
   "source": [
    "# WARNING: Won't work on windows machines\n",
    "!ls -lah"
   ]
  },
  {
   "cell_type": "code",
   "execution_count": 28,
   "metadata": {
    "collapsed": true
   },
   "outputs": [],
   "source": [
    "!open $file_name"
   ]
  },
  {
   "cell_type": "markdown",
   "metadata": {},
   "source": [
    "Now let's write a function that will load and smooth the profile from any chromosome we want"
   ]
  },
  {
   "cell_type": "code",
   "execution_count": 51,
   "metadata": {
    "collapsed": true
   },
   "outputs": [],
   "source": [
    "import os.path \n",
    "\n",
    "def load_and_smooth_profile(file_name, chrom_we_want, window_bp=6000):\n",
    "    \"\"\"\n",
    "    Load a smooth a replication profile.\n",
    "    \n",
    "    Arguments:\n",
    "        file_name -- name of a bed file containing the data\n",
    "        chrom_we_want -- chromosome name in Roman numerals: chrI, ..., chrXVI\n",
    "        window_bp -- length of smoothing window in bp\n",
    "    \n",
    "    Returns:\n",
    "        centers -- location of bin centers along the chromosome\n",
    "        smooth_reads -- smoothed number of reads in each bin\n",
    "    \"\"\"\n",
    "   \n",
    "    # Check validity of file\n",
    "    assert isinstance(file_name,str), 'file_name is not a string.'\n",
    "    assert os.path.isfile(file_name), 'file %s does not exist'%file_name\n",
    "    \n",
    "    # Read file into dataframe \n",
    "    df = pd.read_csv(file_name,  \n",
    "                 names=['chromosome','start','stop','reads'], \n",
    "                 delim_whitespace=True, \n",
    "                 skiprows=2)\n",
    "    \n",
    "    # Check validity of chromosome\n",
    "    assert isinstance(chrom_we_want,str), 'chrom_we_want is not a string'\n",
    "    assert chrom_we_want in df.loc[:,'chromosome'].values, 'chrom_we_want value %s not found in data frame.'%chrom_we_want\n",
    "        \n",
    "    # Check validity of window_bp\n",
    "    assert isinstance(window_bp, int), \"window_bp is not an integer.\"\n",
    "    assert window_bp > 0, \"nonpositive window_bp value of %d\"%window_bp\n",
    "    \n",
    "    # Choose rows to look at\n",
    "    indices = df['chromosome']==chrom_we_want\n",
    "    \n",
    "    # Extract read_lenght, num_reads and centers\n",
    "    chr_df = df.loc[indices,:]\n",
    "    num_reads = chr_df.loc[:,'reads'].astype(float).values\n",
    "    starts = chr_df.loc[:,'start'].values\n",
    "    stops = chr_df.loc[:,'stop'].values\n",
    "    centers = 0.5*(starts + stops)\n",
    "    \n",
    "    # Create convolution window\n",
    "    read_length = df.loc[0,'stop'] - df.loc[0,'start'] + 1\n",
    "    window_size = window_bp//read_length\n",
    "    window = np.ones(window_size)/window_size\n",
    "    \n",
    "    # Smooth read counts\n",
    "    smooth_reads = convolve(num_reads,window,'same')\n",
    "    \n",
    "    # Now return results\n",
    "    return centers, smooth_reads"
   ]
  },
  {
   "cell_type": "code",
   "execution_count": 57,
   "metadata": {
    "collapsed": true
   },
   "outputs": [],
   "source": [
    "def plot_profile(centers, \n",
    "                 smooth_reads,  \n",
    "                 title='', \n",
    "                 kbspacing=200, \n",
    "                 color=[0, .5, 1]):\n",
    "    \"\"\"\n",
    "    Plot a replication profile\n",
    "    \n",
    "    Arguments:\n",
    "        centers -- numpy array of bin locations\n",
    "        smooth_reads -- numpy array of smoothed read counts; same length as centers\n",
    "        title -- title for plot\n",
    "        kbspacing -- tick mark spaking in kilobases\n",
    "        color -- color of plot\n",
    "    \"\"\"\n",
    "    \n",
    "    assert len(centers)==len(smooth_reads), \"centers and smooth_reads are not the same length.\"\n",
    "    assert isinstance(title,str), \"title is not a string\"\n",
    "    assert isinstance(kbspacing,int), \"kbspacing is not an int\"\n",
    "    assert kbspacing > 0, \"nonpositive kbspacing value of %d\"%kbspacing\n",
    "    \n",
    "    # Easier to discuss genomic positions in kb\n",
    "    kb = 1E3\n",
    "    x = centers/kb\n",
    "    L = max(x)\n",
    "    \n",
    "    label_size = 16\n",
    "    \n",
    "    # Plot\n",
    "    plt.fill_between(x, smooth_reads, color=color)\n",
    "\n",
    "    # Place tick marks on x axis ever 200 kb\n",
    "    plt.xticks(np.arange(0,L,kbspacing), fontsize=label_size)\n",
    "    \n",
    "    # Fit plot to precisely the width of the chromosome\n",
    "    plt.xlim([min(x), max(x)])\n",
    "    \n",
    "    # Turn off box\n",
    "    plt.box(False)\n",
    "    \n",
    "    # No need to show ticks on the y axes\n",
    "    plt.yticks([])\n",
    "    \n",
    "    # Add some text annotation, telling the user\n",
    "    plt.title(title, fontsize=label_size)\n",
    "    plt.xlabel('position (in kb)', fontsize=label_size)\n",
    "    "
   ]
  },
  {
   "cell_type": "code",
   "execution_count": 58,
   "metadata": {},
   "outputs": [
    {
     "data": {
      "image/png": "[encoded data removed]",
      "text/plain": [
       "<Figure size 720x144 with 1 Axes>"
      ]
     },
     "metadata": {},
     "output_type": "display_data"
    }
   ],
   "source": [
    "# Test these functions\n",
    "plt.figure(figsize=[10,2])\n",
    "ctrs, rds = load_and_smooth_profile('A1.pileup.bed', chrom_we_want)\n",
    "plot_profile(ctrs, rds, title='sample A', color='green')\n",
    "plt.tight_layout()"
   ]
  },
  {
   "cell_type": "markdown",
   "metadata": {},
   "source": [
    "## Exercise"
   ]
  },
  {
   "cell_type": "markdown",
   "metadata": {},
   "source": [
    "**E4.5.** Using `load_and_smooth_profile()` and `plot_profile()`, fill in code in the subsequent cell to plot four replication profiles in a single figure, using the specified colors."
   ]
  },
  {
   "cell_type": "code",
   "execution_count": 64,
   "metadata": {},
   "outputs": [
    {
     "data": {
      "image/png": "[encoded data removed]",
      "text/plain": [
       "<Figure size 1440x360 with 4 Axes>"
      ]
     },
     "metadata": {},
     "output_type": "display_data"
    }
   ],
   "source": [
    "# Plot 4 replication profiles\n",
    "plt.figure(figsize=[20,5])\n",
    "\n",
    "# Chromosome to focus on\n",
    "chrom_we_want = 'chrII'\n",
    "\n",
    "# Names of samples\n",
    "samples = ['A','B','C','D']\n",
    "\n",
    "# Define colors\n",
    "colors = ['tab:blue', 'tab:orange', 'tab:green', 'tab:purple']\n",
    "\n",
    "# Look over each sample\n",
    "for i, (sample, color) in enumerate(zip(samples, colors)):\n",
    "\n",
    "    ### Answer here -- Specify file name, then load centers and smoothed counts\n",
    "    \n",
    "    # Create axes on which to plot \n",
    "    plt.subplot(2,2,i+1)\n",
    "    \n",
    "    ### Answer here -- Plot profile here\n",
    "\n",
    "# Fix layout\n",
    "plt.tight_layout(w_pad=5, h_pad=2)\n",
    "\n",
    "# Save \n",
    "plt.savefig('%s_all_samples.pdf'%chrom_we_want)\n",
    "\n",
    "# Show plot\n",
    "plt.show()"
   ]
  },
  {
   "cell_type": "code",
   "execution_count": 63,
   "metadata": {
    "collapsed": true
   },
   "outputs": [],
   "source": [
    "# Open figure in another applicaiton\n",
    "# WARNING: won't work on Windows Machines\n",
    "!open *_all_samples.pdf"
   ]
  },
  {
   "cell_type": "markdown",
   "metadata": {},
   "source": [
    "Done."
   ]
  }
 ],
 "metadata": {
  "kernelspec": {
   "display_name": "anaconda_kernel",
   "language": "python",
   "name": "anaconda_kernel"
  },
  "language_info": {
   "codemirror_mode": {
    "name": "ipython",
    "version": 3
   },
   "file_extension": ".py",
   "mimetype": "text/x-python",
   "name": "python",
   "nbconvert_exporter": "python",
   "pygments_lexer": "ipython3",
   "version": "3.6.6"
  }
 },
 "nbformat": 4,
 "nbformat_minor": 1
}
